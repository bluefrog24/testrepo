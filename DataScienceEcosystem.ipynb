{
 "cells": [
  {
   "cell_type": "markdown",
   "id": "5dfa7973-0813-408e-a22e-3b5157a43e09",
   "metadata": {},
   "source": [
    "# Data Science Tools and Ecosystem"
   ]
  },
  {
   "cell_type": "markdown",
   "id": "ad0e39aa-0d73-4c1a-805d-14e822c646a5",
   "metadata": {},
   "source": [
    "In this notebook, Data Science Tools and Ecosystem are summarized."
   ]
  },
  {
   "cell_type": "markdown",
   "id": "15b09160-919c-4c57-9014-23279c237244",
   "metadata": {},
   "source": [
    "**Objectives**\n",
    "* List popular languages for data science\n",
    "* List commonly used libraries in Data Science\n",
    "* Table indicating data science tools\n",
    "* Evaluating arithmetic expressions in Python"
   ]
  },
  {
   "cell_type": "markdown",
   "id": "7fe62e1c-2f4a-47f6-ad79-c639e2367d9c",
   "metadata": {},
   "source": [
    "Some of the popular languages that Data Scientists use are:\n",
    "1. Python\n",
    "2. R\n",
    "3. Java\n"
   ]
  },
  {
   "cell_type": "markdown",
   "id": "edb25c97-5e89-47b6-966a-4dec446e231e",
   "metadata": {},
   "source": [
    "Some of the commonly used libraries used by Data Scientists include:\n",
    "1. Pandas\n",
    "2. NumPy\n",
    "3. Matplotlib"
   ]
  },
  {
   "cell_type": "markdown",
   "id": "3eb2dde3-a4ec-4337-9905-010a74911ba0",
   "metadata": {},
   "source": [
    "| Data Science Tools|\n",
    "|-------------------|\n",
    "|Apache Spark|\n",
    "|Apache Hadoop|\n",
    "|Tensor Flow|"
   ]
  },
  {
   "cell_type": "markdown",
   "id": "57e57668-2d79-4e11-8a33-883201424acf",
   "metadata": {},
   "source": [
    "## Below are a few examples of evaluating arithmetic expressions in Python"
   ]
  },
  {
   "cell_type": "code",
   "execution_count": 8,
   "id": "ef7ea69a-f6f7-4602-b5bf-73ae24c72b8a",
   "metadata": {},
   "outputs": [
    {
     "data": {
      "text/plain": [
       "17"
      ]
     },
     "execution_count": 8,
     "metadata": {},
     "output_type": "execute_result"
    }
   ],
   "source": [
    "#This a simple arithmetic expression to multiply and then add integers\n",
    "(3*4)+5"
   ]
  },
  {
   "cell_type": "code",
   "execution_count": 9,
   "id": "225e7b5b-e33e-447c-8116-b1cd8de37c8d",
   "metadata": {},
   "outputs": [
    {
     "data": {
      "text/plain": [
       "3.3333333333333335"
      ]
     },
     "execution_count": 9,
     "metadata": {},
     "output_type": "execute_result"
    }
   ],
   "source": [
    "#  This will convert 200 minutes to hours by diving by 60\n",
    "200/60"
   ]
  },
  {
   "cell_type": "markdown",
   "id": "ff0bba61-470c-4ac0-bd2a-ce0ee2c1cdef",
   "metadata": {},
   "source": [
    "## Author\n",
    "Izzy Whitehead"
   ]
  },
  {
   "cell_type": "code",
   "execution_count": null,
   "id": "66789675-32a7-4169-a2b8-aa31f9d42961",
   "metadata": {},
   "outputs": [],
   "source": []
  }
 ],
 "metadata": {
  "kernelspec": {
   "display_name": "Python 3 (ipykernel)",
   "language": "python",
   "name": "python3"
  },
  "language_info": {
   "codemirror_mode": {
    "name": "ipython",
    "version": 3
   },
   "file_extension": ".py",
   "mimetype": "text/x-python",
   "name": "python",
   "nbconvert_exporter": "python",
   "pygments_lexer": "ipython3",
   "version": "3.11.7"
  }
 },
 "nbformat": 4,
 "nbformat_minor": 5
}
